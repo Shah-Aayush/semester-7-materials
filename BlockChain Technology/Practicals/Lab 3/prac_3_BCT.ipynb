{
  "cells": [
    {
      "cell_type": "markdown",
      "metadata": {
        "id": "y_-v_LVDqGil"
      },
      "source": [
        "# Practical 3 BCT\n",
        "Proof of work\n",
        "---\n",
        "> 19BCE245 Aayush Shah"
      ]
    },
    {
      "cell_type": "code",
      "execution_count": 59,
      "metadata": {
        "id": "L163T3weEyzk"
      },
      "outputs": [],
      "source": [
        "import datetime\n",
        "import hashlib\n",
        "import random\n",
        "import json\n",
        "# import JSON\n",
        "# from flask import jsonify"
      ]
    },
    {
      "cell_type": "code",
      "execution_count": 60,
      "metadata": {
        "id": "trEsxC-RP5pd"
      },
      "outputs": [],
      "source": [
        "# def compute_hash(index, previous_hash, timestamp, data):\n",
        "#     return hashlib.sha256((str(index) + str(previous_hash) + str(timestamp) + json.dumps(data)).encode('utf-8')).hexdigest()"
      ]
    },
    {
      "cell_type": "code",
      "execution_count": 61,
      "metadata": {
        "id": "ydupPA8F4i91"
      },
      "outputs": [],
      "source": [
        "def compute_hash(hash_data):\n",
        "    return hashlib.sha256(hash_data.encode('utf-8')).hexdigest()"
      ]
    },
    {
      "cell_type": "code",
      "execution_count": 62,
      "metadata": {
        "id": "1Vfejij1vuzB"
      },
      "outputs": [],
      "source": [
        "def proof_of_work(hash_data, difficulty):\n",
        "        nonce = 1\n",
        "        if difficulty==-1:\n",
        "            difficulty = random.randint(1, 5)\n",
        "        print('current difficulty level is : ',difficulty)\n",
        "        while True:\n",
        "            temp_hash = compute_hash(hash_data+str(nonce))\n",
        "            if temp_hash[:difficulty] == '0'*difficulty:\n",
        "                break\n",
        "            nonce +=1 \n",
        "        return temp_hash,nonce,difficulty"
      ]
    },
    {
      "cell_type": "code",
      "execution_count": 63,
      "metadata": {
        "id": "mI4-jwzNNdSE"
      },
      "outputs": [],
      "source": [
        "class Block:\n",
        "    def __init__(self, index, data, previous_hash, reward):\n",
        "        self.index = index\n",
        "        self.data = data\n",
        "        self.previous_hash = previous_hash\n",
        "        self.timestamp = str(datetime.datetime.now())\n",
        "        hash_data = str(self.index) + str(self.previous_hash) + str(self.timestamp) + json.dumps(self.data)\n",
        "        self.hash,self.nonce,self.difficulty = proof_of_work(hash_data,-1)\n",
        "        self.reward = reward\n",
        "\n",
        "    def print_block_details(self):\n",
        "        print(f'Details for block indexed at {self.index} : ')\n",
        "        print(f'\\tData : {self.data}')\n",
        "        print(f'\\tTimeStamp : {self.timestamp}')\n",
        "        print(f'\\tHash : {self.hash}')\n",
        "        print(f'\\tPrevious Hash : {self.previous_hash}')\n",
        "        print(f'\\tReward : {self.reward}')\n",
        "        print(f'\\tNonce : {self.nonce}')\n",
        "        print(f'\\tDifficulty : {self.difficulty}')"
      ]
    },
    {
      "cell_type": "code",
      "execution_count": 64,
      "metadata": {
        "id": "nUMoU4RFKHF1"
      },
      "outputs": [],
      "source": [
        "class BlockChain:\n",
        "    # chain = []\n",
        "    def __init__(self, total_reward, partician):\n",
        "        self.chain = []\n",
        "        self.partician = partician\n",
        "        self.total_reward = total_reward - partician\n",
        "        genesis_block = Block(len(self.chain)+1,'Aayush\\'s BlockChain!',0, self.partician)\n",
        "        self.chain.append(genesis_block)\n",
        "    \n",
        "    def add_block(self, data):\n",
        "        assigned_reward = 0\n",
        "        if self.total_reward-self.partician>0:\n",
        "            self.total_reward -= self.partician\n",
        "            assigned_reward = self.partician\n",
        "        elif self.total_reward>0:\n",
        "            assigned_reward = self.total_reward\n",
        "            self.total_reward = 0\n",
        "        new_block = Block(len(self.chain)+1, data, self.chain[-1].hash, assigned_reward)\n",
        "        self.chain.append(new_block)\n",
        "        \n",
        "\n",
        "    def get_previous_block(self):\n",
        "        return self.chain[-1]\n",
        "\n",
        "    def get_specific_block(self,index):\n",
        "        return self.chain[index]\n",
        "    \n",
        "    def print_block(self, block):\n",
        "        block.print_block_details()\n",
        "    \n",
        "    def chain_validation(self):\n",
        "        hash_data,_,__ = proof_of_work(str(self.chain[0].index) + str(self.chain[0].previous_hash) + str(self.chain[0].timestamp) + json.dumps(self.chain[0].data), self.chain[0].difficulty)\n",
        "        if self.chain[0].hash != hash_data:\n",
        "            return False\n",
        "        print('\\t> genesis block is validated.')\n",
        "        for i in range(1,len(self.chain)):\n",
        "            if self.chain[i].previous_hash != self.chain[i-1].hash:\n",
        "                return False\n",
        "            hash_data,_,__ = proof_of_work(str(self.chain[i].index) + str(self.chain[i].previous_hash) + str(self.chain[i].timestamp) + json.dumps(self.chain[i].data), self.chain[i].difficulty)\n",
        "            if self.chain[i].hash != hash_data:\n",
        "                return False\n",
        "            if i != len(self.chain)-1 and self.chain[i].hash != self.chain[i+1].previous_hash:\n",
        "                return False\n",
        "            print(f'\\t> {i+1}th block is validated.')\n",
        "        return True"
      ]
    },
    {
      "cell_type": "code",
      "execution_count": null,
      "metadata": {
        "colab": {
          "base_uri": "https://localhost:8080/"
        },
        "id": "kaNiF2VHPfz4",
        "outputId": "4632d92b-5059-45d4-ea60-de3865e5e5a5"
      },
      "outputs": [
        {
          "output_type": "stream",
          "name": "stdout",
          "text": [
            "Enter total reward you want to assign your chain : 100\n",
            "Enter partician reward value which will be assingned to each block : 10\n",
            "current difficulty level is :  2\n",
            "MENU : \n",
            "    1. Add block\n",
            "    2. View Specific block\n",
            "    3. View Last block\n",
            "    4. Validate chain\n",
            "    5. Exit\n",
            "Choice : 1\n",
            "\t\tEnter data for the block : Aayush's BlockChain\n",
            "current difficulty level is :  4\n",
            "Added block at index 2\n",
            "MENU : \n",
            "    1. Add block\n",
            "    2. View Specific block\n",
            "    3. View Last block\n",
            "    4. Validate chain\n",
            "    5. Exit\n",
            "Choice : 1\n",
            "\t\tEnter data for the block : My roll number is 19BCE245\n",
            "current difficulty level is :  3\n",
            "Added block at index 3\n",
            "MENU : \n",
            "    1. Add block\n",
            "    2. View Specific block\n",
            "    3. View Last block\n",
            "    4. Validate chain\n",
            "    5. Exit\n"
          ]
        }
      ],
      "source": [
        "if __name__ == \"__main__\":\n",
        "    total_reward = int(input('Enter total reward you want to assign your chain : '))\n",
        "    partician = total_reward\n",
        "    while partician>=total_reward:\n",
        "        partician = int(input('Enter partician reward value which will be assingned to each block : '))\n",
        "        if partician>=total_reward:\n",
        "            print('Partician value should be less then reward value.')\n",
        "    \n",
        "    myBlockChain = BlockChain(total_reward, partician)\n",
        "\n",
        "    while True:\n",
        "        print(\"\"\"MENU : \n",
        "    1. Add block\n",
        "    2. View Specific block\n",
        "    3. View Last block\n",
        "    4. Validate chain\n",
        "    5. Exit\"\"\")\n",
        "        choice = int(input(\"Choice : \"))\n",
        "        # try: \n",
        "        if choice==1:\n",
        "            data = input('\\t\\tEnter data for the block : ')\n",
        "            myBlockChain.add_block(data)\n",
        "            print(f'Added block at index {len(myBlockChain.chain)}')\n",
        "        elif choice==2:\n",
        "            index = int(input('\\t\\tEnter block index : '))\n",
        "            try:\n",
        "                myBlockChain.print_block(myBlockChain.get_specific_block(index-1))\n",
        "            except:\n",
        "                print('# Invalid index entered!')\n",
        "        elif choice==3:\n",
        "            myBlockChain.print_block(myBlockChain.get_previous_block())\n",
        "        elif choice==4:\n",
        "            if myBlockChain.chain_validation():\n",
        "                print(f'\\tChain is validated.')\n",
        "            else:\n",
        "                print(f'\\tChain is not validated')\n",
        "        elif choice==5:\n",
        "            print('Thank you!')\n",
        "            break\n",
        "        else:\n",
        "            print('# Invalid choice!')\n",
        "        # except:\n",
        "        #     print('# Integer value expected!')\n",
        "            "
      ]
    }
  ],
  "metadata": {
    "colab": {
      "collapsed_sections": [],
      "provenance": []
    },
    "kernelspec": {
      "display_name": "Python 3",
      "name": "python3"
    },
    "language_info": {
      "name": "python"
    }
  },
  "nbformat": 4,
  "nbformat_minor": 0
}