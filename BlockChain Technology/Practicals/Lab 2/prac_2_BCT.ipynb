{
  "nbformat": 4,
  "nbformat_minor": 0,
  "metadata": {
    "colab": {
      "name": "prac-2-BCT.ipynb",
      "provenance": [],
      "collapsed_sections": []
    },
    "kernelspec": {
      "name": "python3",
      "display_name": "Python 3"
    },
    "language_info": {
      "name": "python"
    }
  },
  "cells": [
    {
      "cell_type": "markdown",
      "source": [
        "# Practical 2 BCT\n",
        "To create a blockchain and implement replay attacks on blockchain\n",
        "---\n",
        "> 19BCE245 Aayush Shah"
      ],
      "metadata": {
        "id": "y_-v_LVDqGil"
      }
    },
    {
      "cell_type": "code",
      "execution_count": 48,
      "metadata": {
        "id": "L163T3weEyzk"
      },
      "outputs": [],
      "source": [
        "import datetime\n",
        "import hashlib\n",
        "import json\n",
        "# import JSON\n",
        "# from flask import jsonify"
      ]
    },
    {
      "cell_type": "code",
      "source": [
        "def compute_hash(index, previous_hash, timestamp, data):\n",
        "    return hashlib.sha256((str(index) + str(previous_hash) + str(timestamp) + json.dumps(data)).encode('utf-8')).hexdigest()"
      ],
      "metadata": {
        "id": "trEsxC-RP5pd"
      },
      "execution_count": 49,
      "outputs": []
    },
    {
      "cell_type": "code",
      "source": [
        "class Block:\n",
        "    def __init__(self, index, data, previous_hash):\n",
        "        self.index = index\n",
        "        self.data = data\n",
        "        self.previous_hash = previous_hash\n",
        "        self.timestamp = str(datetime.datetime.now())\n",
        "        self.hash = compute_hash(self.index, self.previous_hash, self.timestamp, self.data)\n",
        "\n",
        "    def print_block_details(self):\n",
        "        print(f'Details for block indexed at {self.index} : ')\n",
        "        print(f'\\tData : {self.data}')\n",
        "        print(f'\\tTimeStamp : {self.timestamp}')\n",
        "        print(f'\\tHash : {self.hash}')\n",
        "        print(f'\\tPrevious Hash : {self.previous_hash}')\n"
      ],
      "metadata": {
        "id": "mI4-jwzNNdSE"
      },
      "execution_count": 50,
      "outputs": []
    },
    {
      "cell_type": "code",
      "source": [
        "class BlockChain:\n",
        "    # chain = []\n",
        "    def __init__(self):\n",
        "        self.chain = []\n",
        "        genesis_block = Block(len(self.chain)+1,'Aayush\\'s BlockChain!',0)\n",
        "        self.chain.append(genesis_block)\n",
        "        print(self.chain)\n",
        "    \n",
        "    def add_block(self, data):\n",
        "        new_block = Block(len(self.chain)+1, data, self.chain[-1].hash)\n",
        "    \n",
        "    def get_previous_block(self):\n",
        "        return self.chain[-1]\n",
        "\n",
        "    def get_specific_block(self,index):\n",
        "        return self.chain[index]\n",
        "    \n",
        "    def print_block(self, block):\n",
        "        block.print_block_details()"
      ],
      "metadata": {
        "id": "nUMoU4RFKHF1"
      },
      "execution_count": 51,
      "outputs": []
    },
    {
      "cell_type": "code",
      "source": [
        "if __name__ == \"__main__\":\n",
        "    myBlockChain = BlockChain()\n",
        "    while True:\n",
        "        print(\"\"\"MENU : \n",
        "    1. Add block\n",
        "    2. View Specific block\n",
        "    3. View Last block\n",
        "    4. Exit\"\"\")\n",
        "        choice = int(input(\"Choice : \"))\n",
        "        try: \n",
        "            if choice==1:\n",
        "                data = input('\\t\\tEnter data for the block : ')\n",
        "                myBlockChain.add_block(data)\n",
        "                print(f'Added block at index {len(myBlockChain.chain)+1}')\n",
        "            elif choice==2:\n",
        "                index = int(input('\\t\\tEnter block index : '))\n",
        "                try:\n",
        "                    myBlockChain.print_block(myBlockChain.get_specific_block(index-1))\n",
        "                except:\n",
        "                    print('# Invalid index entered!')\n",
        "            elif choice==3:\n",
        "                myBlockChain.print_block(myBlockChain.get_previous_block())\n",
        "            elif choice==4:\n",
        "                print('Thank you!')\n",
        "                break\n",
        "            else:\n",
        "                print('# Invalid choice!')\n",
        "        except:\n",
        "            print('# Integer value expected!')\n",
        "            "
      ],
      "metadata": {
        "colab": {
          "base_uri": "https://localhost:8080/"
        },
        "id": "kaNiF2VHPfz4",
        "outputId": "08895b50-3bbf-40bb-ed37-8526f6dc1843"
      },
      "execution_count": 53,
      "outputs": [
        {
          "output_type": "stream",
          "name": "stdout",
          "text": [
            "[<__main__.Block object at 0x7fb9bb2899d0>]\n",
            "MENU : \n",
            "    1. Add block\n",
            "    2. View Specific block\n",
            "    3. View Last block\n",
            "    4. Exit\n",
            "Choice : 1\n",
            "\t\tEnter data for the block : aayush is my name\n",
            "Added block at index 3\n",
            "MENU : \n",
            "    1. Add block\n",
            "    2. View Specific block\n",
            "    3. View Last block\n",
            "    4. Exit\n",
            "Choice : 3\n",
            "Details for block indexed at 2 : \n",
            "\tData : aayush is my name\n",
            "\tTimeStamp : 2022-08-31 06:47:30.072418\n",
            "\tHash : 6d76e792f243484159b77831b9587c0f2bdd29283207e89d57a4e43a31a1d3b5\n",
            "\tPrevious Hash : 32e003567c576f024055e5e3dca6d41deef0943fe9971e207c561180b1eadbaa\n",
            "MENU : \n",
            "    1. Add block\n",
            "    2. View Specific block\n",
            "    3. View Last block\n",
            "    4. Exit\n",
            "Choice : 2\n",
            "\t\tEnter block index : 2\n",
            "Details for block indexed at 2 : \n",
            "\tData : aayush is my name\n",
            "\tTimeStamp : 2022-08-31 06:47:30.072418\n",
            "\tHash : 6d76e792f243484159b77831b9587c0f2bdd29283207e89d57a4e43a31a1d3b5\n",
            "\tPrevious Hash : 32e003567c576f024055e5e3dca6d41deef0943fe9971e207c561180b1eadbaa\n",
            "MENU : \n",
            "    1. Add block\n",
            "    2. View Specific block\n",
            "    3. View Last block\n",
            "    4. Exit\n",
            "Choice : 3\n",
            "Details for block indexed at 2 : \n",
            "\tData : aayush is my name\n",
            "\tTimeStamp : 2022-08-31 06:47:30.072418\n",
            "\tHash : 6d76e792f243484159b77831b9587c0f2bdd29283207e89d57a4e43a31a1d3b5\n",
            "\tPrevious Hash : 32e003567c576f024055e5e3dca6d41deef0943fe9971e207c561180b1eadbaa\n",
            "MENU : \n",
            "    1. Add block\n",
            "    2. View Specific block\n",
            "    3. View Last block\n",
            "    4. Exit\n",
            "Choice : 4\n",
            "Thank you!\n"
          ]
        }
      ]
    }
  ]
}