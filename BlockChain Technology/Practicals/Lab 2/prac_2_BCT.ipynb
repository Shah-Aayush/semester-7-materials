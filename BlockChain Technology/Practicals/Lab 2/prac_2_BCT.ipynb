{
  "cells": [
    {
      "cell_type": "markdown",
      "metadata": {
        "id": "y_-v_LVDqGil"
      },
      "source": [
        "# Practical 2 BCT\n",
        "To create a blockchain and implement replay attacks on blockchain\n",
        "---\n",
        "> 19BCE245 Aayush Shah"
      ]
    },
    {
      "cell_type": "code",
      "execution_count": 16,
      "metadata": {
        "id": "L163T3weEyzk"
      },
      "outputs": [],
      "source": [
        "import datetime\n",
        "import hashlib\n",
        "import json\n",
        "# import JSON\n",
        "# from flask import jsonify"
      ]
    },
    {
      "cell_type": "code",
      "execution_count": 17,
      "metadata": {
        "id": "trEsxC-RP5pd"
      },
      "outputs": [],
      "source": [
        "def compute_hash(index, previous_hash, timestamp, data):\n",
        "    return hashlib.sha256((str(index) + str(previous_hash) + str(timestamp) + json.dumps(data)).encode('utf-8')).hexdigest()"
      ]
    },
    {
      "cell_type": "code",
      "execution_count": 18,
      "metadata": {
        "id": "mI4-jwzNNdSE"
      },
      "outputs": [],
      "source": [
        "class Block:\n",
        "    def __init__(self, index, data, previous_hash, reward):\n",
        "        self.index = index\n",
        "        self.data = data\n",
        "        self.previous_hash = previous_hash\n",
        "        self.timestamp = str(datetime.datetime.now())\n",
        "        self.hash = compute_hash(self.index, self.previous_hash, self.timestamp, self.data)\n",
        "        self.reward = reward\n",
        "\n",
        "    def print_block_details(self):\n",
        "        print(f'Details for block indexed at {self.index} : ')\n",
        "        print(f'\\tData : {self.data}')\n",
        "        print(f'\\tTimeStamp : {self.timestamp}')\n",
        "        print(f'\\tHash : {self.hash}')\n",
        "        print(f'\\tPrevious Hash : {self.previous_hash}')\n",
        "        print(f'\\tReward : {self.reward}')"
      ]
    },
    {
      "cell_type": "code",
      "execution_count": 19,
      "metadata": {
        "id": "nUMoU4RFKHF1"
      },
      "outputs": [],
      "source": [
        "class BlockChain:\n",
        "    # chain = []\n",
        "    def __init__(self, total_reward, partician):\n",
        "        self.chain = []\n",
        "        self.partician = partician\n",
        "        self.total_reward = total_reward - partician\n",
        "        genesis_block = Block(len(self.chain)+1,'Aayush\\'s BlockChain!',0, self.partician)\n",
        "        self.chain.append(genesis_block)\n",
        "    \n",
        "    def add_block(self, data):\n",
        "        assigned_reward = 0\n",
        "        if self.total_reward-self.partician>0:\n",
        "            self.total_reward -= self.partician\n",
        "            assigned_reward = self.partician\n",
        "        elif self.total_reward>0:\n",
        "            assigned_reward = self.total_reward\n",
        "            self.total_reward = 0\n",
        "        new_block = Block(len(self.chain)+1, data, self.chain[-1].hash, assigned_reward)\n",
        "        self.chain.append(new_block)\n",
        "\n",
        "    def get_previous_block(self):\n",
        "        return self.chain[-1]\n",
        "\n",
        "    def get_specific_block(self,index):\n",
        "        return self.chain[index]\n",
        "    \n",
        "    def print_block(self, block):\n",
        "        block.print_block_details()\n",
        "    \n",
        "    def chain_validation(self):\n",
        "        if self.chain[0].hash != compute_hash(self.chain[0].index, self.chain[0].previous_hash, self.chain[0].timestamp, self.chain[0].data):\n",
        "            return False\n",
        "        for i in range(1,len(self.chain)):\n",
        "            if self.chain[i].previous_hash != self.chain[i-1].hash:\n",
        "                return False\n",
        "            if self.chain[i].hash != compute_hash(self.chain[i].index, self.chain[i].previous_hash, self.chain[i].timestamp, self.chain[i].data):\n",
        "                return False\n",
        "            if i != len(self.chain)-1 and self.chain[i].hash != self.chain[i+1].previous_hash:\n",
        "                return False\n",
        "        return True\n",
        "    \n"
      ]
    },
    {
      "cell_type": "code",
      "execution_count": null,
      "metadata": {
        "id": "kaNiF2VHPfz4"
      },
      "outputs": [],
      "source": [
        "if __name__ == \"__main__\":\n",
        "    total_reward = int(input('Enter total reward you want to assign your chain : '))\n",
        "    partician = total_reward\n",
        "    while partician>=total_reward:\n",
        "        partician = int(input('Enter partician reward value which will be assingned to each block : '))\n",
        "        if partician>=total_reward:\n",
        "            print('Partician value should be less then reward value.')\n",
        "    myBlockChain = BlockChain(total_reward, partician)\n",
        "\n",
        "    while True:\n",
        "        print(\"\"\"MENU : \n",
        "    1. Add block\n",
        "    2. View Specific block\n",
        "    3. View Last block\n",
        "    4. Validate chain1\n",
        "    5. Exit\"\"\")\n",
        "        choice = int(input(\"Choice : \"))\n",
        "        # try: \n",
        "        if choice==1:\n",
        "            data = input('\\t\\tEnter data for the block : ')\n",
        "            myBlockChain.add_block(data)\n",
        "            print(f'Added block at index {len(myBlockChain.chain)}')\n",
        "        elif choice==2:\n",
        "            index = int(input('\\t\\tEnter block index : '))\n",
        "            try:\n",
        "                myBlockChain.print_block(myBlockChain.get_specific_block(index-1))\n",
        "            except:\n",
        "                print('# Invalid index entered!')\n",
        "        elif choice==3:\n",
        "            myBlockChain.print_block(myBlockChain.get_previous_block())\n",
        "        elif choice==4:\n",
        "            if myBlockChain.chain_validation():\n",
        "                print(f'\\tChain is validated.')\n",
        "            else:\n",
        "                print(f'\\tChain is not validated')\n",
        "        elif choice==5:\n",
        "            print('Thank you!')\n",
        "            break\n",
        "        else:\n",
        "            print('# Invalid choice!')\n",
        "        # except:\n",
        "        #     print('# Integer value expected!')\n",
        "            "
      ]
    }
  ],
  "metadata": {
    "colab": {
      "collapsed_sections": [],
      "provenance": []
    },
    "kernelspec": {
      "display_name": "Python 3",
      "name": "python3"
    },
    "language_info": {
      "name": "python"
    }
  },
  "nbformat": 4,
  "nbformat_minor": 0
}