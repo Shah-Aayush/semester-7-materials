{
  "cells": [
    {
      "cell_type": "markdown",
      "metadata": {
        "id": "-b2fJMznQrMC"
      },
      "source": [
        "# DIPA Practical 4\n",
        "- Name : Aayush Shah\n",
        "> Roll Number : 19BCE245\n"
      ]
    },
    {
      "cell_type": "markdown",
      "metadata": {
        "id": "RyydDlXjW8I1"
      },
      "source": [
        "\n",
        "- Inverse log transformation\n",
        "- Log tranformation\n",
        "- Gamma transformation (power log)\n",
        "  - less then 1\n",
        "  - greater then 1\n",
        "  > appropriate c value\n",
        "- contrast stretching"
      ]
    },
    {
      "cell_type": "markdown",
      "metadata": {
        "id": "NXffNtbCr5Ix"
      },
      "source": [
        "## Importing necessary libraries"
      ]
    },
    {
      "cell_type": "code",
      "execution_count": null,
      "metadata": {
        "id": "pg046G1YW-JO"
      },
      "outputs": [],
      "source": [
        "import os\n",
        "import cv2\n",
        "import numpy as np\n",
        "import matplotlib.pyplot as plt\n",
        "from google.colab.patches import cv2_imshow"
      ]
    },
    {
      "cell_type": "code",
      "execution_count": null,
      "metadata": {
        "id": "SyVRcDrGbWIW"
      },
      "outputs": [],
      "source": [
        "# return list of images from a given folder\n",
        "def load_images_from_folder(folder):\n",
        "    images = []\n",
        "    for filename in os.listdir(folder):\n",
        "        img = cv2.imread(os.path.join(folder, filename))\n",
        "        if img is not None:\n",
        "            images.append(img)\n",
        "    return images"
      ]
    },
    {
      "cell_type": "markdown",
      "metadata": {
        "id": "e6CAPNP9shei"
      },
      "source": [
        "### Log Transformation"
      ]
    },
    {
      "cell_type": "code",
      "execution_count": null,
      "metadata": {
        "id": "YwMp0WF2cJLw"
      },
      "outputs": [],
      "source": [
        "# can be applied in images where low pixel values are more than higher ones.\n",
        "def log_transformation(image):\n",
        "    c = 255/np.log(1+np.max(image))\n",
        "    log_image = c * np.log(1+image)\n",
        "    log_image = np.array(log_image, dtype = np.uint8) # converting float to int\n",
        "    return log_image"
      ]
    },
    {
      "cell_type": "markdown",
      "metadata": {
        "id": "p50a1i5zsk5q"
      },
      "source": [
        "### Inverse Log Transformation"
      ]
    },
    {
      "cell_type": "code",
      "execution_count": null,
      "metadata": {
        "id": "naAphtiphMLp"
      },
      "outputs": [],
      "source": [
        "def inverse_log_transformation(image):\n",
        "    c_inv = 255/(np.log(1+np.max(image)))\n",
        "    inverse_log_image = np.exp(image**1/c_inv)-1\n",
        "    inverse_log_image = np.array(inverse_log_image, dtype = np.uint8)\n",
        "    return inverse_log_image"
      ]
    },
    {
      "cell_type": "markdown",
      "metadata": {
        "id": "FAwUS4J8snGG"
      },
      "source": [
        "### Gamma Transformation"
      ]
    },
    {
      "cell_type": "code",
      "execution_count": null,
      "metadata": {
        "id": "wU3GCSJjmpCS"
      },
      "outputs": [],
      "source": [
        "# for bright images\n",
        "def gamma_transformation(image):\n",
        "    gamma = 0.1\n",
        "    gamma_corrected_image = np.array(255* (image/255) ** gamma, dtype='uint8')\n",
        "    return gamma_corrected_image"
      ]
    },
    {
      "cell_type": "markdown",
      "metadata": {
        "id": "wlCsOC0kspkk"
      },
      "source": [
        "### Gamma Transformation"
      ]
    },
    {
      "cell_type": "code",
      "execution_count": null,
      "metadata": {
        "id": "pISJt6l6nLU0"
      },
      "outputs": [],
      "source": [
        "def pixel_mapping(pixel, r1, s1, r2, s2):\n",
        "    if 0<=pixel and pixel<=r1:\n",
        "        return (s1/r1) * pixel\n",
        "    elif r1<pixel and pixel<=r2:\n",
        "        return ((s2-s1)/(r2-r1)) * (pixel-r1) + s1\n",
        "    else:\n",
        "        return ((255-s2)/(255-r2)) * (pixel-2) + s2\n",
        "\n",
        "def contrast_stretching(image):\n",
        "    r1 = 70\n",
        "    s1 = 0\n",
        "    r2 = 140\n",
        "    s2 = 255\n",
        "    pixel_mapped_vector = np.vectorize(pixel_mapping)\n",
        "    contrast_stretched_image = pixel_mapped_vector(image, r1, s1, r2, s2)\n",
        "    return contrast_stretched_image"
      ]
    },
    {
      "cell_type": "code",
      "execution_count": null,
      "metadata": {
        "id": "TKogrCKud4fi"
      },
      "outputs": [],
      "source": [
        "def display_result(images, func):\n",
        "    counter = 1\n",
        "    for image in images:\n",
        "        ax1 = plt.subplot(len(images),2,counter)\n",
        "        ax1.imshow(image, cmap=\"gray\")\n",
        "        ax1.set_title(\"Original Image\") \n",
        "        ax2 = plt.subplot(len(images),2,counter+1)\n",
        "        ax2.imshow(func(image), cmap=\"gray\")\n",
        "        ax2.set_title(\"Tranformed Image\")\n",
        "        counter+=2\n",
        "    plt.show()"
      ]
    },
    {
      "cell_type": "code",
      "execution_count": null,
      "metadata": {
        "id": "IPQcEIvglgqK"
      },
      "outputs": [],
      "source": [
        "def display_result1(images, func):\n",
        "    counter = 0\n",
        "    fig, axs = plt.subplots(len(images), 2, subplot_kw=dict(projection=\"polar\"))\n",
        "    for image in images:\n",
        "        # print(counter)\n",
        "        axs[counter, 0].imshow(image, cmap=\"gray\")\n",
        "        axs[counter, 0].set_title(\"Original Image\") \n",
        "        axs[counter, 1].imshow(func(image), cmap=\"gray\")\n",
        "        axs[counter, 1].set_title(\"Tranformed Image\")\n",
        "        counter+=1\n",
        "    plt.show()"
      ]
    },
    {
      "cell_type": "code",
      "execution_count": null,
      "metadata": {
        "id": "DQ-NzSAqbRej"
      },
      "outputs": [],
      "source": [
        "images = load_images_from_folder('./images')"
      ]
    },
    {
      "cell_type": "code",
      "execution_count": null,
      "metadata": {
        "colab": {
          "base_uri": "https://localhost:8080/",
          "height": 133
        },
        "id": "MU0x6GX8u5Y5",
        "outputId": "6e81a277-0f87-48a9-da3c-ff5b719ac01c"
      },
      "outputs": [],
      "source": [
        "for image in images:\n",
        "    cv2_imshow(image)"
      ]
    },
    {
      "cell_type": "markdown",
      "metadata": {
        "id": "908ubLaSq-tA"
      },
      "source": [
        "## Outputs : "
      ]
    },
    {
      "cell_type": "code",
      "execution_count": null,
      "metadata": {
        "colab": {
          "base_uri": "https://localhost:8080/",
          "height": 247
        },
        "id": "j4vxK-bcqi0K",
        "outputId": "5788753c-f08c-479a-fa34-1452b5cae34a"
      },
      "outputs": [],
      "source": [
        "# log transformation\n",
        "ax1 = plt.subplot(1,2,1)\n",
        "ax1.imshow(images[0], cmap=\"gray\")\n",
        "ax1.set_title(\"Original Image\") \n",
        "ax2 = plt.subplot(1,2,2)\n",
        "ax2.imshow(log_transformation(images[0]), cmap=\"gray\")\n",
        "ax2.set_title(\"Tranformed Image\")\n",
        "plt.show()"
      ]
    },
    {
      "cell_type": "code",
      "execution_count": null,
      "metadata": {
        "colab": {
          "base_uri": "https://localhost:8080/",
          "height": 211
        },
        "id": "ZBZWbxSmrA1e",
        "outputId": "81c1076a-117d-4cf8-b811-015c60dd7584"
      },
      "outputs": [],
      "source": [
        "# inverse log transformation\n",
        "ax1 = plt.subplot(1,2,1)\n",
        "ax1.imshow(images[0], cmap=\"gray\")\n",
        "ax1.set_title(\"Original Image\") \n",
        "ax2 = plt.subplot(1,2,2)\n",
        "ax2.imshow(inverse_log_transformation(images[0]), cmap=\"gray\")\n",
        "ax2.set_title(\"Tranformed Image\")\n",
        "plt.show()"
      ]
    },
    {
      "cell_type": "code",
      "execution_count": null,
      "metadata": {
        "colab": {
          "base_uri": "https://localhost:8080/",
          "height": 211
        },
        "id": "uXEN8oz_rNFm",
        "outputId": "78619176-1211-49b9-85b6-29ce929bdece"
      },
      "outputs": [],
      "source": [
        "# inverse log transformation\n",
        "ax1 = plt.subplot(1,2,1)\n",
        "ax1.imshow(images[0], cmap=\"gray\")\n",
        "ax1.set_title(\"Original Image\") \n",
        "ax2 = plt.subplot(1,2,2)\n",
        "ax2.imshow(inverse_log_transformation(images[0]), cmap=\"gray\")\n",
        "ax2.set_title(\"Tranformed Image\")\n",
        "plt.show()"
      ]
    },
    {
      "cell_type": "code",
      "execution_count": null,
      "metadata": {
        "colab": {
          "base_uri": "https://localhost:8080/",
          "height": 211
        },
        "id": "iDBLwvZGrSCz",
        "outputId": "8fac571c-1eff-42b8-a95f-b9be60bc0ef1"
      },
      "outputs": [],
      "source": [
        "# gamma transformation\n",
        "ax1 = plt.subplot(1,2,1)\n",
        "ax1.imshow(images[0], cmap=\"gray\")\n",
        "ax1.set_title(\"Original Image\") \n",
        "ax2 = plt.subplot(1,2,2)\n",
        "ax2.imshow(gamma_transformation(images[0]), cmap=\"gray\")\n",
        "ax2.set_title(\"Tranformed Image\")\n",
        "plt.show()"
      ]
    },
    {
      "cell_type": "code",
      "execution_count": null,
      "metadata": {
        "colab": {
          "base_uri": "https://localhost:8080/",
          "height": 229
        },
        "id": "d2mPZ4PTrccR",
        "outputId": "6756f14d-60fb-4bab-8479-29ef29e70b3a"
      },
      "outputs": [],
      "source": [
        "# contrast stretching transformation\n",
        "ax1 = plt.subplot(1,2,1)\n",
        "ax1.imshow(images[0], cmap=\"gray\")\n",
        "ax1.set_title(\"Original Image\") \n",
        "ax2 = plt.subplot(1,2,2)\n",
        "ax2.imshow(contrast_stretching(images[0]), cmap=\"gray\")\n",
        "ax2.set_title(\"Tranformed Image\")\n",
        "plt.show()"
      ]
    },
    {
      "cell_type": "code",
      "execution_count": null,
      "metadata": {
        "colab": {
          "base_uri": "https://localhost:8080/",
          "height": 323
        },
        "id": "9GiNM8l_mEb1",
        "outputId": "851c2ba4-c5ef-4757-cfd6-1b4d157b6b30"
      },
      "outputs": [],
      "source": [
        "display_result1(images, log_transformation)"
      ]
    },
    {
      "cell_type": "code",
      "execution_count": null,
      "metadata": {
        "colab": {
          "base_uri": "https://localhost:8080/",
          "height": 317
        },
        "id": "emqSTLDTeVa8",
        "outputId": "74c8144f-11d1-40db-cad2-f86b7304b82f"
      },
      "outputs": [],
      "source": [
        "display_result(images, log_transformation)"
      ]
    }
  ],
  "metadata": {
    "colab": {
      "provenance": []
    },
    "kernelspec": {
      "display_name": "Python 3",
      "name": "python3"
    },
    "language_info": {
      "name": "python"
    }
  },
  "nbformat": 4,
  "nbformat_minor": 0
}
